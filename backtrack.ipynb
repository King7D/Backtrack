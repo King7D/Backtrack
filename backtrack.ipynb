{
 "cells": [
  {
   "cell_type": "code",
   "execution_count": 10,
   "metadata": {},
   "outputs": [
    {
     "name": "stdout",
     "output_type": "stream",
     "text": [
      "Total return: -0.0151\n",
      "Sharpe ratio: -1.4867\n",
      "Max drawdown: -0.0244\n"
     ]
    }
   ],
   "source": [
    "import ccxt\n",
    "import pandas as pd\n",
    "import ta\n",
    "\n",
    "# Initialize Binance exchange API\n",
    "api_key = 'your api key'\n",
    "api_secret = 'your api secret'\n",
    "exchange = ccxt.binance({\n",
    "    'apiKey': api_key,\n",
    "    'secret': api_secret\n",
    "})\n",
    "\n",
    "# Define parameters for Bollinger Bands\n",
    "bb_period = 20\n",
    "bb_std = 2\n",
    "sma_period = 5\n",
    "\n",
    "# Get historical data for ETH/USDT trading pair\n",
    "ohlcv = exchange.fetch_ohlcv('ETH/USDT', '1h')\n",
    "df = pd.DataFrame(ohlcv, columns=['timestamp', 'open', 'high', 'low', 'close', 'volume'])\n",
    "df['timestamp'] = pd.to_datetime(df['timestamp'], unit='ms')\n",
    "df.set_index('timestamp', inplace=True)\n",
    "df = df['2023-05-08':'2023-05-09']\n",
    "\n",
    "# Calculate Bollinger Bands and SMA using ta library\n",
    "bb = ta.volatility.BollingerBands(close=df['close'], window=bb_period, window_dev=bb_std)\n",
    "df['bb_upperband'] = bb.bollinger_hband()\n",
    "df['bb_middleband'] = bb.bollinger_mavg()\n",
    "df['bb_lowerband'] = bb.bollinger_lband()\n",
    "df['sma5'] = ta.trend.SMAIndicator(close=df['close'], window=sma_period).sma_indicator()\n",
    "\n",
    "\n",
    "# Implement modified trading strategy\n",
    "df['position'] = 0\n",
    "df.loc[df['close'] > df['bb_upperband'], 'position'] = 1\n",
    "df.loc[df['close'] < df['sma5'], 'position'] = -1\n",
    "df['position'] = df['position'].shift()\n",
    "\n",
    "# Calculate daily returns and cumulative returns\n",
    "df['returns'] = df['close'].pct_change() * df['position']\n",
    "df['cum_returns'] = (1 + df['returns']).cumprod()\n",
    "\n",
    "# Print performance metrics\n",
    "print('Total return:', round(df['cum_returns'][-1] - 1, 4))\n",
    "print('Sharpe ratio:', round(df['returns'].mean() / df['returns'].std() * 252**0.5, 4))\n",
    "print('Max drawdown:', round((df['cum_returns'] / df['cum_returns'].cummax() - 1).min(), 4))\n"
   ]
  },
  {
   "cell_type": "code",
   "execution_count": null,
   "metadata": {},
   "outputs": [],
   "source": []
  }
 ],
 "metadata": {
  "kernelspec": {
   "display_name": "Python 3",
   "language": "python",
   "name": "python3"
  },
  "language_info": {
   "codemirror_mode": {
    "name": "ipython",
    "version": 3
   },
   "file_extension": ".py",
   "mimetype": "text/x-python",
   "name": "python",
   "nbconvert_exporter": "python",
   "pygments_lexer": "ipython3",
   "version": "3.10.11"
  },
  "orig_nbformat": 4
 },
 "nbformat": 4,
 "nbformat_minor": 2
}
